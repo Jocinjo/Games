{
 "cells": [
  {
   "cell_type": "markdown",
   "id": "6876fb1f",
   "metadata": {},
   "source": [
    "hieronder wil ik een spel maken waarbij je een lijst met volgordes hebt.\n",
    "het is bijvoorbeeld een lijst van 1 tot 10. allemaal los van elkaar.\n",
    "daarnaast wil ik dat er steeds een 1 wordt toegevoed.\n",
    "dan wordt de stap:\n",
    "1 = 1\n",
    "1+1 =2\n",
    "1 + 2 = 1,2\n",
    "1+1 = 2 en 2+2 is 3\n",
    "en zo voort.\n",
    "\n",
    "ik wil dat je kan aangeven hoe vaak je mag spelen. kunnen bijvoorbeeld levens zijn. en dan wil ik alle elementen van een lijst los zien.\n",
    "\n",
    "stappenplan:\n",
    "* generate a bit-lijst. dus 1/2/4/8 enz tot 10 elementen\n",
    "* zip die lijst met waarden 1 tot en met 10. dus weer 10 elementen\n",
    "* en maak dan aan de hand een functie een lijst van de unieke elementen.\n"
   ]
  },
  {
   "cell_type": "code",
   "execution_count": 58,
   "id": "b4b92cb4",
   "metadata": {},
   "outputs": [],
   "source": [
    "import pandas as pd\n",
    "import matplotlib.pyplot as plt\n",
    "%matplotlib inline\n"
   ]
  },
  {
   "cell_type": "code",
   "execution_count": 59,
   "id": "5f41b9c8",
   "metadata": {},
   "outputs": [
    {
     "name": "stdout",
     "output_type": "stream",
     "text": [
      "['Paster the walls', 'Paint', 'Lay the floor', 'Tidy up', 'Clean', 'Look for a couch', 'Look for chairs', 'Find a TV', 'Search for curtains', 'Look for paintings', 'clean up the garden', 'Search for garden furniture', 'Clean up the front yard', 'Find a desk']\n"
     ]
    }
   ],
   "source": [
    "waardenlijst = [\n",
    "    \"Paster the walls\",\n",
    "    \"Paint\",\n",
    "    \"Lay the floor\",\n",
    "    \"Tidy up\",\n",
    "    \"Clean\",\n",
    "    \"Look for a couch\",\n",
    "    \"Look for chairs\",\n",
    "    \"Find a TV\",\n",
    "    \"Search for curtains\",\n",
    "    \"Look for paintings\",\n",
    "    \"clean up the garden\",\n",
    "    \"Search for garden furniture\",\n",
    "    \"Clean up the front yard\",\n",
    "    \"Find a desk\",\n",
    "]\n",
    "print(waardenlijst)"
   ]
  },
  {
   "cell_type": "code",
   "execution_count": 60,
   "id": "837b183a",
   "metadata": {},
   "outputs": [],
   "source": [
    "def get_my_output(levens):\n",
    "    bin_string = bin(levens)\n",
    "    clean_string = bin_string[2:]\n",
    "    turned_string = clean_string[::-1]\n",
    "    list_of_elements_binary_string = list(turned_string)\n",
    "    list_of_elements_binary_int = list(map(int, list_of_elements_binary_string))\n",
    "    gespaarde_elementen = {\n",
    "        k: v for k, v in zip(waardenlijst, list_of_elements_binary_int)\n",
    "    }\n",
    "\n",
    "    return gespaarde_elementen"
   ]
  },
  {
   "cell_type": "code",
   "execution_count": 61,
   "id": "49758e9c",
   "metadata": {},
   "outputs": [
    {
     "data": {
      "text/plain": [
       "{'Paster the walls': 0, 'Paint': 0, 'Lay the floor': 0, 'Tidy up': 1}"
      ]
     },
     "execution_count": 61,
     "metadata": {},
     "output_type": "execute_result"
    }
   ],
   "source": [
    "get_my_output(8)"
   ]
  },
  {
   "cell_type": "code",
   "execution_count": 62,
   "id": "b218bd0c",
   "metadata": {},
   "outputs": [
    {
     "data": {
      "text/plain": [
       "{'Paster the walls': 0, 'Paint': 1, 'Lay the floor': 0, 'Tidy up': 1}"
      ]
     },
     "execution_count": 62,
     "metadata": {},
     "output_type": "execute_result"
    }
   ],
   "source": [
    "get_my_output(10)"
   ]
  },
  {
   "cell_type": "code",
   "execution_count": 63,
   "id": "27b9b049",
   "metadata": {},
   "outputs": [
    {
     "data": {
      "text/plain": [
       "{'Paster the walls': 0,\n",
       " 'Paint': 0,\n",
       " 'Lay the floor': 0,\n",
       " 'Tidy up': 0,\n",
       " 'Clean': 0,\n",
       " 'Look for a couch': 0,\n",
       " 'Look for chairs': 1,\n",
       " 'Find a TV': 1}"
      ]
     },
     "execution_count": 63,
     "metadata": {},
     "output_type": "execute_result"
    }
   ],
   "source": [
    "get_my_output(192)"
   ]
  },
  {
   "cell_type": "code",
   "execution_count": 64,
   "id": "e4bb4d32",
   "metadata": {},
   "outputs": [
    {
     "data": {
      "application/vnd.microsoft.datawrangler.viewer.v0+json": {
       "columns": [
        {
         "name": "index",
         "rawType": "object",
         "type": "string"
        },
        {
         "name": "0",
         "rawType": "int64",
         "type": "integer"
        }
       ],
       "conversionMethod": "pd.DataFrame",
       "ref": "731221b4-c391-4fb1-ab04-414cf74e8512",
       "rows": [
        [
         "Paster the walls",
         "0"
        ],
        [
         "Paint",
         "0"
        ],
        [
         "Lay the floor",
         "0"
        ],
        [
         "Tidy up",
         "0"
        ],
        [
         "Clean",
         "0"
        ],
        [
         "Look for a couch",
         "1"
        ],
        [
         "Look for chairs",
         "0"
        ],
        [
         "Find a TV",
         "1"
        ],
        [
         "Search for curtains",
         "1"
        ],
        [
         "Look for paintings",
         "1"
        ],
        [
         "clean up the garden",
         "1"
        ],
        [
         "Search for garden furniture",
         "1"
        ]
       ],
       "shape": {
        "columns": 1,
        "rows": 12
       }
      },
      "text/html": [
       "<div>\n",
       "<style scoped>\n",
       "    .dataframe tbody tr th:only-of-type {\n",
       "        vertical-align: middle;\n",
       "    }\n",
       "\n",
       "    .dataframe tbody tr th {\n",
       "        vertical-align: top;\n",
       "    }\n",
       "\n",
       "    .dataframe thead th {\n",
       "        text-align: right;\n",
       "    }\n",
       "</style>\n",
       "<table border=\"1\" class=\"dataframe\">\n",
       "  <thead>\n",
       "    <tr style=\"text-align: right;\">\n",
       "      <th></th>\n",
       "      <th>0</th>\n",
       "    </tr>\n",
       "  </thead>\n",
       "  <tbody>\n",
       "    <tr>\n",
       "      <th>Paster the walls</th>\n",
       "      <td>0</td>\n",
       "    </tr>\n",
       "    <tr>\n",
       "      <th>Paint</th>\n",
       "      <td>0</td>\n",
       "    </tr>\n",
       "    <tr>\n",
       "      <th>Lay the floor</th>\n",
       "      <td>0</td>\n",
       "    </tr>\n",
       "    <tr>\n",
       "      <th>Tidy up</th>\n",
       "      <td>0</td>\n",
       "    </tr>\n",
       "    <tr>\n",
       "      <th>Clean</th>\n",
       "      <td>0</td>\n",
       "    </tr>\n",
       "    <tr>\n",
       "      <th>Look for a couch</th>\n",
       "      <td>1</td>\n",
       "    </tr>\n",
       "    <tr>\n",
       "      <th>Look for chairs</th>\n",
       "      <td>0</td>\n",
       "    </tr>\n",
       "    <tr>\n",
       "      <th>Find a TV</th>\n",
       "      <td>1</td>\n",
       "    </tr>\n",
       "    <tr>\n",
       "      <th>Search for curtains</th>\n",
       "      <td>1</td>\n",
       "    </tr>\n",
       "    <tr>\n",
       "      <th>Look for paintings</th>\n",
       "      <td>1</td>\n",
       "    </tr>\n",
       "    <tr>\n",
       "      <th>clean up the garden</th>\n",
       "      <td>1</td>\n",
       "    </tr>\n",
       "    <tr>\n",
       "      <th>Search for garden furniture</th>\n",
       "      <td>1</td>\n",
       "    </tr>\n",
       "  </tbody>\n",
       "</table>\n",
       "</div>"
      ],
      "text/plain": [
       "                             0\n",
       "Paster the walls             0\n",
       "Paint                        0\n",
       "Lay the floor                0\n",
       "Tidy up                      0\n",
       "Clean                        0\n",
       "Look for a couch             1\n",
       "Look for chairs              0\n",
       "Find a TV                    1\n",
       "Search for curtains          1\n",
       "Look for paintings           1\n",
       "clean up the garden          1\n",
       "Search for garden furniture  1"
      ]
     },
     "execution_count": 64,
     "metadata": {},
     "output_type": "execute_result"
    }
   ],
   "source": [
    "df_binary = pd.DataFrame.from_dict(get_my_output(4000), orient=\"index\")\n",
    "df_binary"
   ]
  },
  {
   "cell_type": "code",
   "execution_count": 65,
   "id": "23b1f4f9",
   "metadata": {},
   "outputs": [
    {
     "data": {
      "text/plain": [
       "<Axes: >"
      ]
     },
     "execution_count": 65,
     "metadata": {},
     "output_type": "execute_result"
    },
    {
     "data": {
      "image/png": "[encoded data removed]",
      "text/plain": [
       "<Figure size 640x480 with 1 Axes>"
      ]
     },
     "metadata": {},
     "output_type": "display_data"
    }
   ],
   "source": [
    "df_binary.plot()\n",
    "# waardenlijst veranderen naar strings"
   ]
  },
  {
   "cell_type": "code",
   "execution_count": 66,
   "id": "9841d695",
   "metadata": {},
   "outputs": [
    {
     "data": {
      "text/plain": [
       "RangeIndex(start=0, stop=1, step=1)"
      ]
     },
     "execution_count": 66,
     "metadata": {},
     "output_type": "execute_result"
    }
   ],
   "source": [
    "df_binary.columns"
   ]
  },
  {
   "cell_type": "code",
   "execution_count": 67,
   "id": "65de8e83",
   "metadata": {},
   "outputs": [
    {
     "data": {
      "text/plain": [
       "([0, 1, 2, 3, 4, 5, 6, 7, 8, 9, 10, 11, 12, 13],\n",
       " [Text(0, 0, 'Paster the walls'),\n",
       "  Text(1, 0, 'Paint'),\n",
       "  Text(2, 0, 'Lay the floor'),\n",
       "  Text(3, 0, 'Tidy up'),\n",
       "  Text(4, 0, 'Clean'),\n",
       "  Text(5, 0, 'Look for a couch'),\n",
       "  Text(6, 0, 'Look for chairs'),\n",
       "  Text(7, 0, 'Find a TV'),\n",
       "  Text(8, 0, 'Search for curtains'),\n",
       "  Text(9, 0, 'Look for paintings'),\n",
       "  Text(10, 0, 'clean up the garden'),\n",
       "  Text(11, 0, 'Search for garden furniture'),\n",
       "  Text(12, 0, 'Clean up the front yard'),\n",
       "  Text(13, 0, 'Find a desk')])"
      ]
     },
     "execution_count": 67,
     "metadata": {},
     "output_type": "execute_result"
    },
    {
     "data": {
      "image/png": "[encoded data removed]",
      "text/plain": [
       "<Figure size 640x480 with 1 Axes>"
      ]
     },
     "metadata": {},
     "output_type": "display_data"
    }
   ],
   "source": [
    "fig, ax = plt.subplots()\n",
    "ax.bar(waardenlijst, df_binary)\n",
    "\n",
    "plt.xticks(rotation=70)\n",
    "\n",
    "# df_binary.plot().set_rotation()"
   ]
  },
  {
   "cell_type": "markdown",
   "id": "7eee9725",
   "metadata": {},
   "source": [
    "# hoe te maken?"
   ]
  },
  {
   "cell_type": "code",
   "execution_count": 68,
   "id": "cddbad3c",
   "metadata": {},
   "outputs": [
    {
     "data": {
      "text/plain": [
       "'0b100'"
      ]
     },
     "execution_count": 68,
     "metadata": {},
     "output_type": "execute_result"
    }
   ],
   "source": [
    "converter_bin = bin(4)\n",
    "converter_bin"
   ]
  },
  {
   "cell_type": "code",
   "execution_count": 69,
   "id": "0e15bc83",
   "metadata": {},
   "outputs": [
    {
     "data": {
      "text/plain": [
       "'0b10000000'"
      ]
     },
     "execution_count": 69,
     "metadata": {},
     "output_type": "execute_result"
    }
   ],
   "source": [
    "bin(128)"
   ]
  },
  {
   "cell_type": "code",
   "execution_count": 70,
   "id": "42363156",
   "metadata": {},
   "outputs": [],
   "source": [
    "def convert_to_bin(number):\n",
    "    # print(bin(number))\n",
    "    return bin(number)"
   ]
  },
  {
   "cell_type": "code",
   "execution_count": 71,
   "id": "be63b07d",
   "metadata": {},
   "outputs": [
    {
     "data": {
      "text/plain": [
       "'0b1000'"
      ]
     },
     "execution_count": 71,
     "metadata": {},
     "output_type": "execute_result"
    }
   ],
   "source": [
    "convert_to_bin(1)\n",
    "convert_to_bin(2)\n",
    "convert_to_bin(4)\n",
    "convert_to_bin(3)\n",
    "convert_to_bin(8)"
   ]
  },
  {
   "cell_type": "code",
   "execution_count": 72,
   "id": "3e999278",
   "metadata": {},
   "outputs": [
    {
     "data": {
      "text/plain": [
       "str"
      ]
     },
     "execution_count": 72,
     "metadata": {},
     "output_type": "execute_result"
    }
   ],
   "source": [
    "type(convert_to_bin(8))"
   ]
  },
  {
   "cell_type": "code",
   "execution_count": 73,
   "id": "fab6f5f2",
   "metadata": {},
   "outputs": [],
   "source": [
    "def clean_bin(bin_output):\n",
    "    return bin_output[2:]"
   ]
  },
  {
   "cell_type": "code",
   "execution_count": 74,
   "id": "bde54114",
   "metadata": {},
   "outputs": [
    {
     "data": {
      "text/plain": [
       "'1000'"
      ]
     },
     "execution_count": 74,
     "metadata": {},
     "output_type": "execute_result"
    }
   ],
   "source": [
    "clean_bin(convert_to_bin(8))"
   ]
  },
  {
   "cell_type": "code",
   "execution_count": 75,
   "id": "cb1f3dc0",
   "metadata": {},
   "outputs": [],
   "source": [
    "def turn_string_around(cleaned_bin):\n",
    "    return cleaned_bin[::-1]"
   ]
  },
  {
   "cell_type": "code",
   "execution_count": 76,
   "id": "b7d35f74",
   "metadata": {},
   "outputs": [
    {
     "data": {
      "text/plain": [
       "'0001'"
      ]
     },
     "execution_count": 76,
     "metadata": {},
     "output_type": "execute_result"
    }
   ],
   "source": [
    "turn_string_around(clean_bin(convert_to_bin(8)))"
   ]
  },
  {
   "cell_type": "code",
   "execution_count": 77,
   "id": "1b91e4b8",
   "metadata": {},
   "outputs": [],
   "source": [
    "def make_list_of_string(turned_string_around):\n",
    "    return list(turned_string_around)"
   ]
  },
  {
   "cell_type": "code",
   "execution_count": 78,
   "id": "326fa8be",
   "metadata": {},
   "outputs": [
    {
     "data": {
      "text/plain": [
       "['0', '0', '0', '1']"
      ]
     },
     "execution_count": 78,
     "metadata": {},
     "output_type": "execute_result"
    }
   ],
   "source": [
    "output_van_levens = make_list_of_string(\"0001\")\n",
    "output_van_levens"
   ]
  },
  {
   "cell_type": "code",
   "execution_count": 79,
   "id": "fbd6f35f",
   "metadata": {},
   "outputs": [
    {
     "data": {
      "text/plain": [
       "{'Paster the walls': '0', 'Paint': '0', 'Lay the floor': '0', 'Tidy up': '1'}"
      ]
     },
     "execution_count": 79,
     "metadata": {},
     "output_type": "execute_result"
    }
   ],
   "source": [
    "verkregen_elementen = {k: v for k, v in zip(waardenlijst, output_van_levens)}\n",
    "verkregen_elementen"
   ]
  },
  {
   "cell_type": "code",
   "execution_count": 80,
   "id": "b4144884",
   "metadata": {},
   "outputs": [
    {
     "name": "stdout",
     "output_type": "stream",
     "text": [
      "{'Paster the walls': '0', 'Paint': '0', 'Lay the floor': '0', 'Tidy up': '1'}\n"
     ]
    }
   ],
   "source": [
    "print(verkregen_elementen)"
   ]
  },
  {
   "cell_type": "code",
   "execution_count": 81,
   "id": "13b33c25",
   "metadata": {},
   "outputs": [
    {
     "data": {
      "text/plain": [
       "[0, 0, 0, 1]"
      ]
     },
     "execution_count": 81,
     "metadata": {},
     "output_type": "execute_result"
    }
   ],
   "source": [
    "int_list = list(map(int, output_van_levens))\n",
    "int_list"
   ]
  },
  {
   "cell_type": "markdown",
   "id": "163410f8",
   "metadata": {},
   "source": [
    "# op een andere manier de lijst samen stellen\n",
    "dit doe ik omdat ik wil proberen een mooie data frame te maken. de waarden zouden de keys moeten worden. iets met \"acties\" lijst en de output zou \"gespaard\" moeten zijn."
   ]
  },
  {
   "cell_type": "code",
   "execution_count": 153,
   "id": "97b109f7",
   "metadata": {},
   "outputs": [
    {
     "data": {
      "text/plain": [
       "['0', '0', '0', '1', '0', '1', '1', '1', '1', '1']"
      ]
     },
     "execution_count": 153,
     "metadata": {},
     "output_type": "execute_result"
    }
   ],
   "source": [
    "new_number = convert_to_bin(1000)\n",
    "clean_new_number = clean_bin(new_number)\n",
    "turned_string = turn_string_around(clean_new_number)\n",
    "list_of_bin_strings = make_list_of_string(turned_string)\n",
    "list_of_bin_strings"
   ]
  },
  {
   "cell_type": "code",
   "execution_count": null,
   "id": "27f5d3d9",
   "metadata": {},
   "outputs": [
    {
     "data": {
      "text/plain": [
       "{'acties': ['Paster the walls',\n",
       "  'Paint',\n",
       "  'Lay the floor',\n",
       "  'Tidy up',\n",
       "  'Clean',\n",
       "  'Look for a couch',\n",
       "  'Look for chairs',\n",
       "  'Find a TV',\n",
       "  'Search for curtains',\n",
       "  'Look for paintings'],\n",
       " 'gespaard': ['0', '0', '0', '1', '0', '1', '1', '1', '1', '1']}"
      ]
     },
     "execution_count": 154,
     "metadata": {},
     "output_type": "execute_result"
    }
   ],
   "source": [
    "len_list_of_bin_strings = len(list_of_bin_strings)\n",
    "dict_for_score = {\n",
    "    \"acties\": waardenlijst[:len_list_of_bin_strings],\n",
    "    \"gespaard\": list_of_bin_strings,\n",
    "}\n",
    "dict_for_score"
   ]
  },
  {
   "cell_type": "code",
   "execution_count": 155,
   "id": "c193ddbb",
   "metadata": {},
   "outputs": [
    {
     "data": {
      "application/vnd.microsoft.datawrangler.viewer.v0+json": {
       "columns": [
        {
         "name": "index",
         "rawType": "int64",
         "type": "integer"
        },
        {
         "name": "acties",
         "rawType": "object",
         "type": "string"
        },
        {
         "name": "gespaard",
         "rawType": "object",
         "type": "string"
        }
       ],
       "conversionMethod": "pd.DataFrame",
       "ref": "e716edb4-0c3a-4e0e-a613-a6d73b9fd1e3",
       "rows": [
        [
         "0",
         "Paster the walls",
         "0"
        ],
        [
         "1",
         "Paint",
         "0"
        ],
        [
         "2",
         "Lay the floor",
         "0"
        ],
        [
         "3",
         "Tidy up",
         "1"
        ],
        [
         "4",
         "Clean",
         "0"
        ],
        [
         "5",
         "Look for a couch",
         "1"
        ],
        [
         "6",
         "Look for chairs",
         "1"
        ],
        [
         "7",
         "Find a TV",
         "1"
        ],
        [
         "8",
         "Search for curtains",
         "1"
        ],
        [
         "9",
         "Look for paintings",
         "1"
        ]
       ],
       "shape": {
        "columns": 2,
        "rows": 10
       }
      },
      "text/html": [
       "<div>\n",
       "<style scoped>\n",
       "    .dataframe tbody tr th:only-of-type {\n",
       "        vertical-align: middle;\n",
       "    }\n",
       "\n",
       "    .dataframe tbody tr th {\n",
       "        vertical-align: top;\n",
       "    }\n",
       "\n",
       "    .dataframe thead th {\n",
       "        text-align: right;\n",
       "    }\n",
       "</style>\n",
       "<table border=\"1\" class=\"dataframe\">\n",
       "  <thead>\n",
       "    <tr style=\"text-align: right;\">\n",
       "      <th></th>\n",
       "      <th>acties</th>\n",
       "      <th>gespaard</th>\n",
       "    </tr>\n",
       "  </thead>\n",
       "  <tbody>\n",
       "    <tr>\n",
       "      <th>0</th>\n",
       "      <td>Paster the walls</td>\n",
       "      <td>0</td>\n",
       "    </tr>\n",
       "    <tr>\n",
       "      <th>1</th>\n",
       "      <td>Paint</td>\n",
       "      <td>0</td>\n",
       "    </tr>\n",
       "    <tr>\n",
       "      <th>2</th>\n",
       "      <td>Lay the floor</td>\n",
       "      <td>0</td>\n",
       "    </tr>\n",
       "    <tr>\n",
       "      <th>3</th>\n",
       "      <td>Tidy up</td>\n",
       "      <td>1</td>\n",
       "    </tr>\n",
       "    <tr>\n",
       "      <th>4</th>\n",
       "      <td>Clean</td>\n",
       "      <td>0</td>\n",
       "    </tr>\n",
       "    <tr>\n",
       "      <th>5</th>\n",
       "      <td>Look for a couch</td>\n",
       "      <td>1</td>\n",
       "    </tr>\n",
       "    <tr>\n",
       "      <th>6</th>\n",
       "      <td>Look for chairs</td>\n",
       "      <td>1</td>\n",
       "    </tr>\n",
       "    <tr>\n",
       "      <th>7</th>\n",
       "      <td>Find a TV</td>\n",
       "      <td>1</td>\n",
       "    </tr>\n",
       "    <tr>\n",
       "      <th>8</th>\n",
       "      <td>Search for curtains</td>\n",
       "      <td>1</td>\n",
       "    </tr>\n",
       "    <tr>\n",
       "      <th>9</th>\n",
       "      <td>Look for paintings</td>\n",
       "      <td>1</td>\n",
       "    </tr>\n",
       "  </tbody>\n",
       "</table>\n",
       "</div>"
      ],
      "text/plain": [
       "                acties gespaard\n",
       "0     Paster the walls        0\n",
       "1                Paint        0\n",
       "2        Lay the floor        0\n",
       "3              Tidy up        1\n",
       "4                Clean        0\n",
       "5     Look for a couch        1\n",
       "6      Look for chairs        1\n",
       "7            Find a TV        1\n",
       "8  Search for curtains        1\n",
       "9   Look for paintings        1"
      ]
     },
     "execution_count": 155,
     "metadata": {},
     "output_type": "execute_result"
    }
   ],
   "source": [
    "df_new_binary = pd.DataFrame.from_dict(dict_for_score)\n",
    "df_new_binary"
   ]
  },
  {
   "cell_type": "code",
   "execution_count": 156,
   "id": "5b0b6a8d",
   "metadata": {},
   "outputs": [
    {
     "data": {
      "application/vnd.microsoft.datawrangler.viewer.v0+json": {
       "columns": [
        {
         "name": "index",
         "rawType": "int64",
         "type": "integer"
        },
        {
         "name": "acties",
         "rawType": "object",
         "type": "string"
        },
        {
         "name": "gespaard",
         "rawType": "object",
         "type": "string"
        }
       ],
       "conversionMethod": "pd.DataFrame",
       "ref": "fe293c71-1481-4688-9de5-affaf7fcf506",
       "rows": [
        [
         "5",
         "Look for a couch",
         "1"
        ],
        [
         "6",
         "Look for chairs",
         "1"
        ],
        [
         "7",
         "Find a TV",
         "1"
        ],
        [
         "8",
         "Search for curtains",
         "1"
        ],
        [
         "9",
         "Look for paintings",
         "1"
        ]
       ],
       "shape": {
        "columns": 2,
        "rows": 5
       }
      },
      "text/html": [
       "<div>\n",
       "<style scoped>\n",
       "    .dataframe tbody tr th:only-of-type {\n",
       "        vertical-align: middle;\n",
       "    }\n",
       "\n",
       "    .dataframe tbody tr th {\n",
       "        vertical-align: top;\n",
       "    }\n",
       "\n",
       "    .dataframe thead th {\n",
       "        text-align: right;\n",
       "    }\n",
       "</style>\n",
       "<table border=\"1\" class=\"dataframe\">\n",
       "  <thead>\n",
       "    <tr style=\"text-align: right;\">\n",
       "      <th></th>\n",
       "      <th>acties</th>\n",
       "      <th>gespaard</th>\n",
       "    </tr>\n",
       "  </thead>\n",
       "  <tbody>\n",
       "    <tr>\n",
       "      <th>5</th>\n",
       "      <td>Look for a couch</td>\n",
       "      <td>1</td>\n",
       "    </tr>\n",
       "    <tr>\n",
       "      <th>6</th>\n",
       "      <td>Look for chairs</td>\n",
       "      <td>1</td>\n",
       "    </tr>\n",
       "    <tr>\n",
       "      <th>7</th>\n",
       "      <td>Find a TV</td>\n",
       "      <td>1</td>\n",
       "    </tr>\n",
       "    <tr>\n",
       "      <th>8</th>\n",
       "      <td>Search for curtains</td>\n",
       "      <td>1</td>\n",
       "    </tr>\n",
       "    <tr>\n",
       "      <th>9</th>\n",
       "      <td>Look for paintings</td>\n",
       "      <td>1</td>\n",
       "    </tr>\n",
       "  </tbody>\n",
       "</table>\n",
       "</div>"
      ],
      "text/plain": [
       "                acties gespaard\n",
       "5     Look for a couch        1\n",
       "6      Look for chairs        1\n",
       "7            Find a TV        1\n",
       "8  Search for curtains        1\n",
       "9   Look for paintings        1"
      ]
     },
     "execution_count": 156,
     "metadata": {},
     "output_type": "execute_result"
    }
   ],
   "source": [
    "df_new_binary.tail()"
   ]
  },
  {
   "cell_type": "code",
   "execution_count": 157,
   "id": "424891ce",
   "metadata": {},
   "outputs": [
    {
     "data": {
      "text/plain": [
       "['Paster the walls',\n",
       " 'Paint',\n",
       " 'Lay the floor',\n",
       " 'Tidy up',\n",
       " 'Clean',\n",
       " 'Look for a couch',\n",
       " 'Look for chairs',\n",
       " 'Find a TV',\n",
       " 'Search for curtains',\n",
       " 'Look for paintings',\n",
       " 'clean up the garden',\n",
       " 'Search for garden furniture',\n",
       " 'Clean up the front yard',\n",
       " 'Find a desk']"
      ]
     },
     "execution_count": 157,
     "metadata": {},
     "output_type": "execute_result"
    }
   ],
   "source": [
    "waardenlijst"
   ]
  },
  {
   "cell_type": "code",
   "execution_count": 158,
   "id": "bc5f6f81",
   "metadata": {},
   "outputs": [],
   "source": [
    "df_new_binary[\"gespaard\"] = df_new_binary[\"gespaard\"].astype(\"int64\")"
   ]
  },
  {
   "cell_type": "code",
   "execution_count": 159,
   "id": "061d68df",
   "metadata": {},
   "outputs": [
    {
     "data": {
      "text/plain": [
       "<Axes: >"
      ]
     },
     "execution_count": 159,
     "metadata": {},
     "output_type": "execute_result"
    },
    {
     "data": {
      "image/png": "[encoded data removed]",
      "text/plain": [
       "<Figure size 640x480 with 1 Axes>"
      ]
     },
     "metadata": {},
     "output_type": "display_data"
    }
   ],
   "source": [
    "df_new_binary.plot()"
   ]
  },
  {
   "cell_type": "code",
   "execution_count": 160,
   "id": "ea4a62d2",
   "metadata": {},
   "outputs": [
    {
     "data": {
      "text/plain": [
       "10"
      ]
     },
     "execution_count": 160,
     "metadata": {},
     "output_type": "execute_result"
    }
   ],
   "source": [
    "len(list_of_bin_strings)"
   ]
  },
  {
   "cell_type": "code",
   "execution_count": 161,
   "id": "4cc1a7f3",
   "metadata": {},
   "outputs": [
    {
     "data": {
      "text/plain": [
       "14"
      ]
     },
     "execution_count": 161,
     "metadata": {},
     "output_type": "execute_result"
    }
   ],
   "source": [
    "len(waardenlijst)"
   ]
  },
  {
   "cell_type": "code",
   "execution_count": 162,
   "id": "cce47420",
   "metadata": {},
   "outputs": [
    {
     "data": {
      "text/plain": [
       "['Paster the walls', 'Paint', 'Lay the floor']"
      ]
     },
     "execution_count": 162,
     "metadata": {},
     "output_type": "execute_result"
    }
   ],
   "source": [
    "waardenlijst[:3]"
   ]
  },
  {
   "cell_type": "code",
   "execution_count": 163,
   "id": "d04eda29",
   "metadata": {},
   "outputs": [
    {
     "ename": "TypeError",
     "evalue": "xticks(): Parameter 'labels' can't be set without setting 'ticks'",
     "output_type": "error",
     "traceback": [
      "\u001b[31m---------------------------------------------------------------------------\u001b[39m",
      "\u001b[31mTypeError\u001b[39m                                 Traceback (most recent call last)",
      "\u001b[36mCell\u001b[39m\u001b[36m \u001b[39m\u001b[32mIn[163]\u001b[39m\u001b[32m, line 3\u001b[39m\n\u001b[32m      1\u001b[39m fig, ax = plt.subplots()\n\u001b[32m      2\u001b[39m df_new_binary.plot()\n\u001b[32m----> \u001b[39m\u001b[32m3\u001b[39m \u001b[43mplt\u001b[49m\u001b[43m.\u001b[49m\u001b[43mxticks\u001b[49m\u001b[43m(\u001b[49m\u001b[43mrotation\u001b[49m\u001b[43m=\u001b[49m\u001b[32;43m70\u001b[39;49m\u001b[43m,\u001b[49m\u001b[43m \u001b[49m\u001b[43mlabels\u001b[49m\u001b[43m=\u001b[49m\u001b[43mwaardenlijst\u001b[49m\u001b[43m[\u001b[49m\u001b[43m:\u001b[49m\u001b[43mlen_list_of_bin_strings\u001b[49m\u001b[43m]\u001b[49m\u001b[43m)\u001b[49m\n",
      "\u001b[36mFile \u001b[39m\u001b[32m/mnt/c/Users/Josie/Desktop/Python projectjes/Games/.venv/lib/python3.11/site-packages/matplotlib/pyplot.py:2228\u001b[39m, in \u001b[36mxticks\u001b[39m\u001b[34m(ticks, labels, minor, **kwargs)\u001b[39m\n\u001b[32m   2226\u001b[39m     locs = ax.get_xticks(minor=minor)\n\u001b[32m   2227\u001b[39m     \u001b[38;5;28;01mif\u001b[39;00m labels \u001b[38;5;129;01mis\u001b[39;00m \u001b[38;5;129;01mnot\u001b[39;00m \u001b[38;5;28;01mNone\u001b[39;00m:\n\u001b[32m-> \u001b[39m\u001b[32m2228\u001b[39m         \u001b[38;5;28;01mraise\u001b[39;00m \u001b[38;5;167;01mTypeError\u001b[39;00m(\u001b[33m\"\u001b[39m\u001b[33mxticks(): Parameter \u001b[39m\u001b[33m'\u001b[39m\u001b[33mlabels\u001b[39m\u001b[33m'\u001b[39m\u001b[33m can\u001b[39m\u001b[33m'\u001b[39m\u001b[33mt be set \u001b[39m\u001b[33m\"\u001b[39m\n\u001b[32m   2229\u001b[39m                         \u001b[33m\"\u001b[39m\u001b[33mwithout setting \u001b[39m\u001b[33m'\u001b[39m\u001b[33mticks\u001b[39m\u001b[33m'\u001b[39m\u001b[33m\"\u001b[39m)\n\u001b[32m   2230\u001b[39m \u001b[38;5;28;01melse\u001b[39;00m:\n\u001b[32m   2231\u001b[39m     locs = ax.set_xticks(ticks, minor=minor)\n",
      "\u001b[31mTypeError\u001b[39m: xticks(): Parameter 'labels' can't be set without setting 'ticks'"
     ]
    },
    {
     "data": {
      "image/png": "[encoded data removed]",
      "text/plain": [
       "<Figure size 640x480 with 1 Axes>"
      ]
     },
     "metadata": {},
     "output_type": "display_data"
    },
    {
     "data": {
      "image/png": "[encoded data removed]",
      "text/plain": [
       "<Figure size 640x480 with 1 Axes>"
      ]
     },
     "metadata": {},
     "output_type": "display_data"
    }
   ],
   "source": [
    "fig, ax = plt.subplots()\n",
    "df_new_binary.plot()\n",
    "plt.xticks(rotation=70, labels=waardenlijst[:len_list_of_bin_strings])"
   ]
  },
  {
   "cell_type": "code",
   "execution_count": null,
   "id": "472eca2f",
   "metadata": {},
   "outputs": [],
   "source": []
  }
 ],
 "metadata": {
  "kernelspec": {
   "display_name": ".venv",
   "language": "python",
   "name": "python3"
  },
  "language_info": {
   "codemirror_mode": {
    "name": "ipython",
    "version": 3
   },
   "file_extension": ".py",
   "mimetype": "text/x-python",
   "name": "python",
   "nbconvert_exporter": "python",
   "pygments_lexer": "ipython3",
   "version": "3.11.5"
  }
 },
 "nbformat": 4,
 "nbformat_minor": 5
}
